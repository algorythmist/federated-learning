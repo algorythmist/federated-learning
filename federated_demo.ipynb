{
 "cells": [
  {
   "cell_type": "markdown",
   "id": "722ec6a7",
   "metadata": {},
   "source": [
    "# Federated Machine Learning\n",
    "\n",
    "This demo illustrates the federated learning algorithm with the fashion mnist dataset"
   ]
  },
  {
   "cell_type": "code",
   "execution_count": 1,
   "id": "29ec9ce1",
   "metadata": {},
   "outputs": [],
   "source": [
    "import keras\n",
    "from util import *\n",
    "from federated import CentralServer"
   ]
  },
  {
   "cell_type": "code",
   "execution_count": 2,
   "id": "12139156",
   "metadata": {},
   "outputs": [],
   "source": [
    "# Load the Fashion mnist dataset\n",
    "\n",
    "dataset = keras.datasets.fashion_mnist\n",
    "\n",
    "(X_train, y_train), (X_test, y_test) = dataset.load_data()    "
   ]
  },
  {
   "cell_type": "code",
   "execution_count": 3,
   "id": "0f4679a3",
   "metadata": {},
   "outputs": [],
   "source": [
    "# split the training data between the server and the clients\n",
    "num_clients = 5\n",
    "shards = split_data(X_train, y_train, num_clients + 1)\n",
    "server_X, server_y = shards[0]\n",
    "\n",
    "# create the clients\n",
    "clients = create_clients(shards=shards[1:], create_model_fn=build_and_compile_simple_model)"
   ]
  },
  {
   "cell_type": "code",
   "execution_count": 4,
   "id": "edb64e5c",
   "metadata": {},
   "outputs": [],
   "source": [
    "# create test and validation sets\n",
    "half = len(y_test) // 2\n",
    "X_valid, y_valid = X_test[:half], y_test[:half]\n",
    "X_test, y_test = X_test[half:], y_test[half:]\n"
   ]
  },
  {
   "cell_type": "code",
   "execution_count": 5,
   "id": "ed6b2349",
   "metadata": {},
   "outputs": [
    {
     "name": "stdout",
     "output_type": "stream",
     "text": [
      "Epoch 1/10\n",
      "313/313 [==============================] - 3s 7ms/step - loss: 1.2303 - sparse_categorical_accuracy: 0.6234\n",
      "Epoch 2/10\n",
      "313/313 [==============================] - 2s 6ms/step - loss: 0.7100 - sparse_categorical_accuracy: 0.7670\n",
      "Epoch 3/10\n",
      "313/313 [==============================] - 2s 6ms/step - loss: 0.6086 - sparse_categorical_accuracy: 0.7973\n",
      "Epoch 4/10\n",
      "313/313 [==============================] - 2s 6ms/step - loss: 0.5549 - sparse_categorical_accuracy: 0.8131\n",
      "Epoch 5/10\n",
      "313/313 [==============================] - 2s 6ms/step - loss: 0.5206 - sparse_categorical_accuracy: 0.8252\n",
      "Epoch 6/10\n",
      "313/313 [==============================] - 2s 6ms/step - loss: 0.4966 - sparse_categorical_accuracy: 0.8294\n",
      "Epoch 7/10\n",
      "313/313 [==============================] - 2s 6ms/step - loss: 0.4783 - sparse_categorical_accuracy: 0.8373\n",
      "Epoch 8/10\n",
      "313/313 [==============================] - 2s 6ms/step - loss: 0.4618 - sparse_categorical_accuracy: 0.8407\n",
      "Epoch 9/10\n",
      "313/313 [==============================] - 2s 6ms/step - loss: 0.4476 - sparse_categorical_accuracy: 0.8471\n",
      "Epoch 10/10\n",
      "313/313 [==============================] - 2s 6ms/step - loss: 0.4362 - sparse_categorical_accuracy: 0.8501\n"
     ]
    },
    {
     "data": {
      "text/plain": [
       "<keras.src.callbacks.History at 0x24847832be0>"
      ]
     },
     "execution_count": 5,
     "metadata": {},
     "output_type": "execute_result"
    }
   ],
   "source": [
    "    # pre-train server model to obtain initial weights\n",
    "server_model = build_and_compile_simple_model()\n",
    "server_model.fit(server_X, server_y, epochs=10)"
   ]
  },
  {
   "cell_type": "code",
   "execution_count": 6,
   "id": "8edb4f49",
   "metadata": {},
   "outputs": [
    {
     "name": "stdout",
     "output_type": "stream",
     "text": [
      "Server iteration 0\n",
      "Fitting local model for client client_1\n",
      "Fitting local model for client client_2\n",
      "Fitting local model for client client_3\n",
      "Fitting local model for client client_4\n",
      "Fitting local model for client client_5\n",
      "157/157 [==============================] - 1s 4ms/step - loss: 0.4687 - sparse_categorical_accuracy: 0.8266\n",
      "Server iteration 1\n",
      "Fitting local model for client client_1\n",
      "Fitting local model for client client_2\n",
      "Fitting local model for client client_3\n",
      "Fitting local model for client client_4\n",
      "Fitting local model for client client_5\n",
      "157/157 [==============================] - 1s 4ms/step - loss: 0.4578 - sparse_categorical_accuracy: 0.8338\n",
      "Server iteration 2\n",
      "Fitting local model for client client_1\n",
      "Fitting local model for client client_2\n",
      "Fitting local model for client client_3\n",
      "Fitting local model for client client_4\n",
      "Fitting local model for client client_5\n",
      "157/157 [==============================] - 1s 4ms/step - loss: 0.4359 - sparse_categorical_accuracy: 0.8398\n",
      "Server iteration 3\n",
      "Fitting local model for client client_1\n",
      "Fitting local model for client client_2\n",
      "Fitting local model for client client_3\n",
      "Fitting local model for client client_4\n",
      "Fitting local model for client client_5\n",
      "157/157 [==============================] - 1s 4ms/step - loss: 0.4324 - sparse_categorical_accuracy: 0.8400\n",
      "Server iteration 4\n",
      "Fitting local model for client client_1\n",
      "Fitting local model for client client_2\n",
      "Fitting local model for client client_3\n",
      "Fitting local model for client client_4\n",
      "Fitting local model for client client_5\n",
      "157/157 [==============================] - 1s 4ms/step - loss: 0.4188 - sparse_categorical_accuracy: 0.8472\n",
      "Server iteration 5\n",
      "Fitting local model for client client_1\n",
      "Fitting local model for client client_2\n",
      "Fitting local model for client client_3\n",
      "Fitting local model for client client_4\n",
      "Fitting local model for client client_5\n",
      "157/157 [==============================] - 1s 4ms/step - loss: 0.4124 - sparse_categorical_accuracy: 0.8484\n",
      "Server iteration 6\n",
      "Fitting local model for client client_1\n",
      "Fitting local model for client client_2\n",
      "Fitting local model for client client_3\n",
      "Fitting local model for client client_4\n",
      "Fitting local model for client client_5\n",
      "157/157 [==============================] - 1s 4ms/step - loss: 0.4094 - sparse_categorical_accuracy: 0.8484\n",
      "Server iteration 7\n",
      "Fitting local model for client client_1\n",
      "Fitting local model for client client_2\n",
      "Fitting local model for client client_3\n",
      "Fitting local model for client client_4\n",
      "Fitting local model for client client_5\n",
      "157/157 [==============================] - 1s 4ms/step - loss: 0.3987 - sparse_categorical_accuracy: 0.8532\n",
      "Server iteration 8\n",
      "Fitting local model for client client_1\n",
      "Fitting local model for client client_2\n",
      "Fitting local model for client client_3\n",
      "Fitting local model for client client_4\n",
      "Fitting local model for client client_5\n",
      "157/157 [==============================] - 1s 4ms/step - loss: 0.3954 - sparse_categorical_accuracy: 0.8532\n",
      "Server iteration 9\n",
      "Fitting local model for client client_1\n",
      "Fitting local model for client client_2\n",
      "Fitting local model for client client_3\n",
      "Fitting local model for client client_4\n",
      "Fitting local model for client client_5\n",
      "157/157 [==============================] - 1s 4ms/step - loss: 0.3882 - sparse_categorical_accuracy: 0.8558\n",
      "Server iteration 10\n",
      "Fitting local model for client client_1\n",
      "Fitting local model for client client_2\n",
      "Fitting local model for client client_3\n",
      "Fitting local model for client client_4\n",
      "Fitting local model for client client_5\n",
      "157/157 [==============================] - 1s 4ms/step - loss: 0.3860 - sparse_categorical_accuracy: 0.8586\n",
      "Server iteration 11\n",
      "Fitting local model for client client_1\n",
      "Fitting local model for client client_2\n",
      "Fitting local model for client client_3\n",
      "Fitting local model for client client_4\n",
      "Fitting local model for client client_5\n",
      "157/157 [==============================] - 1s 4ms/step - loss: 0.3804 - sparse_categorical_accuracy: 0.8610\n",
      "Server iteration 12\n",
      "Fitting local model for client client_1\n",
      "Fitting local model for client client_2\n",
      "Fitting local model for client client_3\n",
      "Fitting local model for client client_4\n",
      "Fitting local model for client client_5\n",
      "157/157 [==============================] - 1s 4ms/step - loss: 0.3787 - sparse_categorical_accuracy: 0.8604\n",
      "Server iteration 13\n",
      "Fitting local model for client client_1\n",
      "Fitting local model for client client_2\n",
      "Fitting local model for client client_3\n",
      "Fitting local model for client client_4\n",
      "Fitting local model for client client_5\n",
      "157/157 [==============================] - 1s 4ms/step - loss: 0.3737 - sparse_categorical_accuracy: 0.8630\n",
      "Server iteration 14\n",
      "Fitting local model for client client_1\n",
      "Fitting local model for client client_2\n",
      "Fitting local model for client client_3\n",
      "Fitting local model for client client_4\n",
      "Fitting local model for client client_5\n",
      "157/157 [==============================] - 1s 4ms/step - loss: 0.3676 - sparse_categorical_accuracy: 0.8660\n",
      "Server iteration 15\n",
      "Fitting local model for client client_1\n",
      "Fitting local model for client client_2\n",
      "Fitting local model for client client_3\n",
      "Fitting local model for client client_4\n",
      "Fitting local model for client client_5\n",
      "157/157 [==============================] - 1s 4ms/step - loss: 0.3690 - sparse_categorical_accuracy: 0.8644\n",
      "Server iteration 16\n",
      "Fitting local model for client client_1\n",
      "Fitting local model for client client_2\n",
      "Fitting local model for client client_3\n",
      "Fitting local model for client client_4\n",
      "Fitting local model for client client_5\n",
      "157/157 [==============================] - 1s 4ms/step - loss: 0.3642 - sparse_categorical_accuracy: 0.8676\n",
      "Server iteration 17\n",
      "Fitting local model for client client_1\n",
      "Fitting local model for client client_2\n",
      "Fitting local model for client client_3\n",
      "Fitting local model for client client_4\n",
      "Fitting local model for client client_5\n",
      "157/157 [==============================] - 1s 4ms/step - loss: 0.3634 - sparse_categorical_accuracy: 0.8680\n",
      "Server iteration 18\n",
      "Fitting local model for client client_1\n",
      "Fitting local model for client client_2\n",
      "Fitting local model for client client_3\n",
      "Fitting local model for client client_4\n",
      "Fitting local model for client client_5\n",
      "157/157 [==============================] - 1s 4ms/step - loss: 0.3624 - sparse_categorical_accuracy: 0.8660\n",
      "Server iteration 19\n",
      "Fitting local model for client client_1\n",
      "Fitting local model for client client_2\n",
      "Fitting local model for client client_3\n",
      "Fitting local model for client client_4\n",
      "Fitting local model for client client_5\n",
      "157/157 [==============================] - 1s 4ms/step - loss: 0.3548 - sparse_categorical_accuracy: 0.8706\n"
     ]
    }
   ],
   "source": [
    "# Create the central server and run federated learning for 20 iterations\n",
    "server = CentralServer(server_model, clients, client_epochs=3)\n",
    "server.train(20, evaluate_fn=lambda model: model.evaluate(X_test, y_test) )\n"
   ]
  },
  {
   "cell_type": "code",
   "execution_count": 7,
   "id": "6ad28ffa",
   "metadata": {},
   "outputs": [
    {
     "name": "stdout",
     "output_type": "stream",
     "text": [
      "157/157 [==============================] - 1s 4ms/step - loss: 0.3610 - sparse_categorical_accuracy: 0.8702\n",
      " accuracy: 0.870199978351593 | loss: 0.36102667450904846\n"
     ]
    }
   ],
   "source": [
    "# Evaluate the final model on the validation set\n",
    "\n",
    "loss, accuracy = server_model.evaluate(X_valid, y_valid)\n",
    "print(f\" accuracy: {accuracy} | loss: {loss}\")"
   ]
  },
  {
   "cell_type": "code",
   "execution_count": null,
   "id": "c66322b7",
   "metadata": {},
   "outputs": [],
   "source": []
  }
 ],
 "metadata": {
  "kernelspec": {
   "display_name": "federated-learning",
   "language": "python",
   "name": "federated-learning"
  },
  "language_info": {
   "codemirror_mode": {
    "name": "ipython",
    "version": 3
   },
   "file_extension": ".py",
   "mimetype": "text/x-python",
   "name": "python",
   "nbconvert_exporter": "python",
   "pygments_lexer": "ipython3",
   "version": "3.10.13"
  },
  "widgets": {
   "application/vnd.jupyter.widget-state+json": {
    "state": {},
    "version_major": 2,
    "version_minor": 0
   }
  }
 },
 "nbformat": 4,
 "nbformat_minor": 5
}
